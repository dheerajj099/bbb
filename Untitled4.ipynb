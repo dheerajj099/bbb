{
 "cells": [
  {
   "cell_type": "code",
   "execution_count": 1,
   "id": "96c8a371-5c2f-4611-9778-29230b8c2c4b",
   "metadata": {},
   "outputs": [
    {
     "data": {
      "text/plain": [
       "2"
      ]
     },
     "execution_count": 1,
     "metadata": {},
     "output_type": "execute_result"
    }
   ],
   "source": [
    "1+1"
   ]
  },
  {
   "cell_type": "raw",
   "id": "442b2064-feac-48f7-844f-e3be71ee5de0",
   "metadata": {},
   "source": [
    "student life is to be a very struugle such that it can be the maimn after that it can change some time to be debated in away that can be the role soit will be the rw jockkr foresty agjduu"
   ]
  },
  {
   "cell_type": "raw",
   "id": "ac47f403-609e-4a9f-8e25-17f6a2baf782",
   "metadata": {},
   "source": []
  },
  {
   "cell_type": "code",
   "execution_count": null,
   "id": "e1732ad6-7fb9-4d84-a7fc-4f4dcb9d654d",
   "metadata": {},
   "outputs": [],
   "source": []
  },
  {
   "cell_type": "code",
   "execution_count": null,
   "id": "5fa59ef2-5872-4fed-94ce-2a21be3fdf36",
   "metadata": {},
   "outputs": [],
   "source": []
  },
  {
   "cell_type": "code",
   "execution_count": null,
   "id": "33f097ff-5575-451e-abab-31720f6ea266",
   "metadata": {},
   "outputs": [],
   "source": []
  },
  {
   "cell_type": "code",
   "execution_count": null,
   "id": "3f1afaed-2b5d-48ae-85a3-eb6c55b4f06b",
   "metadata": {},
   "outputs": [],
   "source": []
  },
  {
   "cell_type": "code",
   "execution_count": null,
   "id": "a9e62847-b598-45c4-b790-3c12f269bbd7",
   "metadata": {},
   "outputs": [],
   "source": []
  },
  {
   "cell_type": "code",
   "execution_count": null,
   "id": "5fb15ca7-24ea-43f7-8dad-93bcfd9e8dd1",
   "metadata": {},
   "outputs": [],
   "source": []
  }
 ],
 "metadata": {
  "kernelspec": {
   "display_name": "Python 3 (ipykernel)",
   "language": "python",
   "name": "python3"
  },
  "language_info": {
   "codemirror_mode": {
    "name": "ipython",
    "version": 3
   },
   "file_extension": ".py",
   "mimetype": "text/x-python",
   "name": "python",
   "nbconvert_exporter": "python",
   "pygments_lexer": "ipython3",
   "version": "3.12.4"
  }
 },
 "nbformat": 4,
 "nbformat_minor": 5
}
